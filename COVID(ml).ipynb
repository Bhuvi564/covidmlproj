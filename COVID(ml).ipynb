{
  "nbformat": 4,
  "nbformat_minor": 0,
  "metadata": {
    "colab": {
      "provenance": [],
      "authorship_tag": "ABX9TyP+lW01ZEsCbZfnoTEclUrN",
      "include_colab_link": true
    },
    "kernelspec": {
      "name": "python3",
      "display_name": "Python 3"
    },
    "language_info": {
      "name": "python"
    }
  },
  "cells": [
    {
      "cell_type": "markdown",
      "metadata": {
        "id": "view-in-github",
        "colab_type": "text"
      },
      "source": [
        "<a href=\"https://colab.research.google.com/github/Bhuvi564/covidmlproj/blob/main/COVID(ml).ipynb\" target=\"_parent\"><img src=\"https://colab.research.google.com/assets/colab-badge.svg\" alt=\"Open In Colab\"/></a>"
      ]
    },
    {
      "cell_type": "code",
      "execution_count": null,
      "metadata": {
        "id": "8a9ClRTafFiC"
      },
      "outputs": [],
      "source": [
        "import numpy as np\n",
        "import matplotlib.pyplot as plt\n",
        "import pandas as pd"
      ]
    },
    {
      "cell_type": "code",
      "source": [
        "data_set = pd.read_csv('Covid_Data_new.csv')\n",
        "X = data_set.iloc[:, :-1].values\n",
        "y = data_set.iloc[:, -1].values"
      ],
      "metadata": {
        "id": "ypUVJD3EfSTb"
      },
      "execution_count": null,
      "outputs": []
    },
    {
      "cell_type": "code",
      "source": [
        "print(X)"
      ],
      "metadata": {
        "colab": {
          "base_uri": "https://localhost:8080/"
        },
        "id": "Ya1ckWj8fsCT",
        "outputId": "a89a72f7-039c-43b0-bd3a-93887f826c39"
      },
      "execution_count": null,
      "outputs": [
        {
          "output_type": "stream",
          "name": "stdout",
          "text": [
            "[[10.0 'Normal' 'no' 'no' 97.0]\n",
            " [12.0 'Normal' 'no' 'no' 97.0]\n",
            " [15.0 'Normal' 'no' 'no' 94.0]\n",
            " [10.0 'Normal' 'no' 'no' 97.0]\n",
            " [13.0 'Moderate' 'no' 'no' 94.0]\n",
            " [12.0 'Moderate' 'no' 'no' 97.0]\n",
            " [13.0 'Moderate' 'no' 'no' 93.0]\n",
            " [15.0 'Moderate' 'no' 'no' 92.0]\n",
            " [18.0 'Moderate' 'no' 'no' 66.0]\n",
            " [19.0 'Normal' 'no' 'no' 92.0]\n",
            " [20.0 'Normal' 'no' 'no' 93.0]\n",
            " [17.0 'Normal' 'no' 'no' 93.0]\n",
            " [16.0 'Normal' 'no' 'no' 92.0]\n",
            " [18.0 'Normal' 'no' 'no' 93.0]\n",
            " [20.0 'Normal' 'no' 'no' 92.0]\n",
            " [25.0 'Moderate' 'no' 'no' 93.0]\n",
            " [24.0 'Moderate' 'no' 'no' 92.0]\n",
            " [26.0 'High' 'no' 'no' 94.0]\n",
            " [28.0 'Normal' 'no' 'no' 99.0]\n",
            " [29.0 'Normal' 'no' 'no' 93.0]\n",
            " [30.0 'Moderate' 'no' 'no' 62.0]\n",
            " [19.0 'Normal' 'no' 'no' 89.0]\n",
            " [25.0 'Normal' 'no' 'yes' 86.0]\n",
            " [26.0 'Normal' 'no' 'no' nan]\n",
            " [28.0 'Normal' 'no' 'no' 89.0]\n",
            " [30.0 'Moderate' 'yes' 'no' 86.0]\n",
            " [35.0 'Moderate' 'no' 'no' 89.0]\n",
            " [32.0 'Moderate' 'no' 'yes' 84.0]\n",
            " [nan 'Moderate' 'yes' 'no' 90.0]\n",
            " [32.0 'Moderate' 'no' 'no' 89.0]\n",
            " [35.0 'Moderate' 'no' 'yes' 92.0]\n",
            " [38.0 'High' 'no' 'no' 75.0]\n",
            " [40.0 'Moderate' 'no' 'yes' 90.0]\n",
            " [46.0 'High' 'yes' 'no' 91.0]\n",
            " [48.0 'Moderate' 'no' 'yes' 93.0]\n",
            " [42.0 'High' 'no' 'no' 92.0]\n",
            " [40.0 'High' 'no' 'no' 92.0]\n",
            " [49.0 'Moderate' 'no' 'no' 80.0]\n",
            " [50.0 'High' 'yes' 'yes' 77.0]\n",
            " [36.0 'High' 'yes' 'no' 90.0]\n",
            " [52.0 'High' 'yes' 'yes' 80.0]\n",
            " [56.0 'High' 'yes' 'yes' 77.0]\n",
            " [58.0 'High' 'no' 'no' 70.0]\n",
            " [59.0 'High' 'no' 'yes' 69.0]\n",
            " [60.0 'High' 'yes' 'yes' 68.0]\n",
            " [53.0 'High' 'yes' 'no' 55.0]\n",
            " [54.0 'High' 'yes' 'yes' 70.0]\n",
            " [62.0 'High' 'yes' 'yes' 68.0]\n",
            " [63.0 'High' 'yes' 'yes' 66.0]\n",
            " [68.0 'High' 'yes' 'no' 67.0]\n",
            " [69.0 'High' 'no' 'yes' 53.0]\n",
            " [64.0 'High' 'yes' 'yes' 73.0]\n",
            " [61.0 'High' 'yes' 'yes' 76.0]\n",
            " [70.0 'Normal' 'no' 'yes' 88.0]\n",
            " [59.0 'High' 'yes' 'no' 68.0]\n",
            " [62.0 'High' 'yes' 'yes' 69.0]\n",
            " [78.0 'High' 'yes' 'yes' 71.0]\n",
            " [74.0 'High' 'yes' 'yes' 75.0]\n",
            " [75.0 'High' 'no' 'yes' 72.0]\n",
            " [56.0 'High' 'yes' 'no' 76.0]\n",
            " [80.0 'High' 'no' 'yes' 92.0]\n",
            " [82.0 'High' 'yes' 'yes' 73.0]\n",
            " [86.0 'High' 'yes' 'yes' 71.0]\n",
            " [90.0 'High' 'yes' 'yes' 67.0]\n",
            " [84.0 'High' 'yes' 'yes' 75.0]\n",
            " [86.0 'High' 'no' 'yes' 76.0]\n",
            " [61.0 'Moderate' 'no' 'yes' 90.0]\n",
            " [94.0 'High' 'yes' 'yes' 64.0]\n",
            " [81.0 'High' 'yes' 'yes' 75.0]\n",
            " [76.0 'High' 'yes' 'yes' 80.0]]\n"
          ]
        }
      ]
    },
    {
      "cell_type": "code",
      "source": [
        "print(y)"
      ],
      "metadata": {
        "colab": {
          "base_uri": "https://localhost:8080/"
        },
        "id": "8vZDKWDsgguT",
        "outputId": "1445574b-24e3-4393-8f6c-bab1c4d08d67"
      },
      "execution_count": null,
      "outputs": [
        {
          "output_type": "stream",
          "name": "stdout",
          "text": [
            "['No' 'No' 'No' 'No' 'No' 'No' 'No' 'No' 'Yes' 'No' 'No' 'No' 'No' 'No'\n",
            " 'No' 'No' 'No' 'No' 'No' 'No' 'Yes' 'No' 'No' 'No' 'No' 'No' 'No' 'No'\n",
            " 'No' 'No' 'No' 'Yes' 'No' 'No' 'No' 'No' 'No' 'Yes' 'Yes' 'No' 'Yes'\n",
            " 'Yes' 'Yes' 'Yes' 'Yes' 'Yes' 'Yes' 'Yes' 'Yes' 'Yes' 'Yes' 'Yes' 'Yes'\n",
            " 'No' 'Yes' 'Yes' 'Yes' 'Yes' 'Yes' 'Yes' 'No' 'Yes' 'Yes' 'Yes' 'Yes'\n",
            " 'Yes' 'No' 'Yes' 'Yes' 'Yes']\n"
          ]
        }
      ]
    },
    {
      "cell_type": "code",
      "source": [
        "from sklearn.impute import SimpleImputer\n",
        "impute = SimpleImputer(missing_values = np.nan, strategy = 'mean')\n",
        "\n",
        "impute.fit(X[:, 0:1])\n",
        "X[:, 0:1] = impute.transform(X[:, 0:1])\n",
        "\n",
        "impute.fit(X[:, 4:5])\n",
        "X[:, 4:5] = impute.transform(X[:, 4:5])"
      ],
      "metadata": {
        "id": "LH1aV0tBthTa"
      },
      "execution_count": null,
      "outputs": []
    },
    {
      "cell_type": "code",
      "source": [
        "print(X)"
      ],
      "metadata": {
        "colab": {
          "base_uri": "https://localhost:8080/"
        },
        "id": "X518aUw0zeW3",
        "outputId": "d65f4bc8-ea7c-4dd2-e353-d80fc38ad3af"
      },
      "execution_count": null,
      "outputs": [
        {
          "output_type": "stream",
          "name": "stdout",
          "text": [
            "[[10.0 'Normal' 'no' 'no' 97.0]\n",
            " [12.0 'Normal' 'no' 'no' 97.0]\n",
            " [15.0 'Normal' 'no' 'no' 94.0]\n",
            " [10.0 'Normal' 'no' 'no' 97.0]\n",
            " [13.0 'Moderate' 'no' 'no' 94.0]\n",
            " [12.0 'Moderate' 'no' 'no' 97.0]\n",
            " [13.0 'Moderate' 'no' 'no' 93.0]\n",
            " [15.0 'Moderate' 'no' 'no' 92.0]\n",
            " [18.0 'Moderate' 'no' 'no' 66.0]\n",
            " [19.0 'Normal' 'no' 'no' 92.0]\n",
            " [20.0 'Normal' 'no' 'no' 93.0]\n",
            " [17.0 'Normal' 'no' 'no' 93.0]\n",
            " [16.0 'Normal' 'no' 'no' 92.0]\n",
            " [18.0 'Normal' 'no' 'no' 93.0]\n",
            " [20.0 'Normal' 'no' 'no' 92.0]\n",
            " [25.0 'Moderate' 'no' 'no' 93.0]\n",
            " [24.0 'Moderate' 'no' 'no' 92.0]\n",
            " [26.0 'High' 'no' 'no' 94.0]\n",
            " [28.0 'Normal' 'no' 'no' 99.0]\n",
            " [29.0 'Normal' 'no' 'no' 93.0]\n",
            " [30.0 'Moderate' 'no' 'no' 62.0]\n",
            " [19.0 'Normal' 'no' 'no' 89.0]\n",
            " [25.0 'Normal' 'no' 'yes' 86.0]\n",
            " [26.0 'Normal' 'no' 'no' 82.07246376811594]\n",
            " [28.0 'Normal' 'no' 'no' 89.0]\n",
            " [30.0 'Moderate' 'yes' 'no' 86.0]\n",
            " [35.0 'Moderate' 'no' 'no' 89.0]\n",
            " [32.0 'Moderate' 'no' 'yes' 84.0]\n",
            " [45.130434782608695 'Moderate' 'yes' 'no' 90.0]\n",
            " [32.0 'Moderate' 'no' 'no' 89.0]\n",
            " [35.0 'Moderate' 'no' 'yes' 92.0]\n",
            " [38.0 'High' 'no' 'no' 75.0]\n",
            " [40.0 'Moderate' 'no' 'yes' 90.0]\n",
            " [46.0 'High' 'yes' 'no' 91.0]\n",
            " [48.0 'Moderate' 'no' 'yes' 93.0]\n",
            " [42.0 'High' 'no' 'no' 92.0]\n",
            " [40.0 'High' 'no' 'no' 92.0]\n",
            " [49.0 'Moderate' 'no' 'no' 80.0]\n",
            " [50.0 'High' 'yes' 'yes' 77.0]\n",
            " [36.0 'High' 'yes' 'no' 90.0]\n",
            " [52.0 'High' 'yes' 'yes' 80.0]\n",
            " [56.0 'High' 'yes' 'yes' 77.0]\n",
            " [58.0 'High' 'no' 'no' 70.0]\n",
            " [59.0 'High' 'no' 'yes' 69.0]\n",
            " [60.0 'High' 'yes' 'yes' 68.0]\n",
            " [53.0 'High' 'yes' 'no' 55.0]\n",
            " [54.0 'High' 'yes' 'yes' 70.0]\n",
            " [62.0 'High' 'yes' 'yes' 68.0]\n",
            " [63.0 'High' 'yes' 'yes' 66.0]\n",
            " [68.0 'High' 'yes' 'no' 67.0]\n",
            " [69.0 'High' 'no' 'yes' 53.0]\n",
            " [64.0 'High' 'yes' 'yes' 73.0]\n",
            " [61.0 'High' 'yes' 'yes' 76.0]\n",
            " [70.0 'Normal' 'no' 'yes' 88.0]\n",
            " [59.0 'High' 'yes' 'no' 68.0]\n",
            " [62.0 'High' 'yes' 'yes' 69.0]\n",
            " [78.0 'High' 'yes' 'yes' 71.0]\n",
            " [74.0 'High' 'yes' 'yes' 75.0]\n",
            " [75.0 'High' 'no' 'yes' 72.0]\n",
            " [56.0 'High' 'yes' 'no' 76.0]\n",
            " [80.0 'High' 'no' 'yes' 92.0]\n",
            " [82.0 'High' 'yes' 'yes' 73.0]\n",
            " [86.0 'High' 'yes' 'yes' 71.0]\n",
            " [90.0 'High' 'yes' 'yes' 67.0]\n",
            " [84.0 'High' 'yes' 'yes' 75.0]\n",
            " [86.0 'High' 'no' 'yes' 76.0]\n",
            " [61.0 'Moderate' 'no' 'yes' 90.0]\n",
            " [94.0 'High' 'yes' 'yes' 64.0]\n",
            " [81.0 'High' 'yes' 'yes' 75.0]\n",
            " [76.0 'High' 'yes' 'yes' 80.0]]\n"
          ]
        }
      ]
    },
    {
      "cell_type": "code",
      "source": [
        "from sklearn.compose import ColumnTransformer\n",
        "from sklearn.preprocessing import OneHotEncoder"
      ],
      "metadata": {
        "id": "tCGy7jwF9ThB"
      },
      "execution_count": null,
      "outputs": []
    },
    {
      "cell_type": "code",
      "source": [
        "ct = ColumnTransformer(transformers = [('encoder', OneHotEncoder(), [1])], remainder = 'passthrough')\n",
        "X = np.array(ct.fit_transform(X))"
      ],
      "metadata": {
        "id": "L4DcFTzp9tg1"
      },
      "execution_count": null,
      "outputs": []
    },
    {
      "cell_type": "code",
      "source": [
        "print(X)"
      ],
      "metadata": {
        "colab": {
          "base_uri": "https://localhost:8080/"
        },
        "id": "FY1MfZ0j-kUz",
        "outputId": "78ac9bc6-cbb0-4ce1-b325-97d9659d464a"
      },
      "execution_count": null,
      "outputs": [
        {
          "output_type": "stream",
          "name": "stdout",
          "text": [
            "[[1.0 0.0 0.0 1.0 1.0 0.0 1.0 0.0 10.0 97.0]\n",
            " [1.0 0.0 0.0 1.0 1.0 0.0 1.0 0.0 12.0 97.0]\n",
            " [1.0 0.0 0.0 1.0 1.0 0.0 1.0 0.0 15.0 94.0]\n",
            " [1.0 0.0 0.0 1.0 1.0 0.0 1.0 0.0 10.0 97.0]\n",
            " [0.0 1.0 0.0 0.0 1.0 0.0 1.0 0.0 13.0 94.0]\n",
            " [0.0 1.0 0.0 0.0 1.0 0.0 1.0 0.0 12.0 97.0]\n",
            " [0.0 1.0 0.0 0.0 1.0 0.0 1.0 0.0 13.0 93.0]\n",
            " [0.0 1.0 0.0 0.0 1.0 0.0 1.0 0.0 15.0 92.0]\n",
            " [0.0 1.0 0.0 0.0 1.0 0.0 1.0 0.0 18.0 66.0]\n",
            " [1.0 0.0 0.0 1.0 1.0 0.0 1.0 0.0 19.0 92.0]\n",
            " [1.0 0.0 0.0 1.0 1.0 0.0 1.0 0.0 20.0 93.0]\n",
            " [1.0 0.0 0.0 1.0 1.0 0.0 1.0 0.0 17.0 93.0]\n",
            " [1.0 0.0 0.0 1.0 1.0 0.0 1.0 0.0 16.0 92.0]\n",
            " [1.0 0.0 0.0 1.0 1.0 0.0 1.0 0.0 18.0 93.0]\n",
            " [1.0 0.0 0.0 1.0 1.0 0.0 1.0 0.0 20.0 92.0]\n",
            " [0.0 1.0 0.0 0.0 1.0 0.0 1.0 0.0 25.0 93.0]\n",
            " [0.0 1.0 0.0 0.0 1.0 0.0 1.0 0.0 24.0 92.0]\n",
            " [1.0 0.0 1.0 0.0 1.0 0.0 1.0 0.0 26.0 94.0]\n",
            " [1.0 0.0 0.0 1.0 1.0 0.0 1.0 0.0 28.0 99.0]\n",
            " [1.0 0.0 0.0 1.0 1.0 0.0 1.0 0.0 29.0 93.0]\n",
            " [0.0 1.0 0.0 0.0 1.0 0.0 1.0 0.0 30.0 62.0]\n",
            " [1.0 0.0 0.0 1.0 1.0 0.0 1.0 0.0 19.0 89.0]\n",
            " [1.0 0.0 0.0 1.0 1.0 0.0 0.0 1.0 25.0 86.0]\n",
            " [1.0 0.0 0.0 1.0 1.0 0.0 1.0 0.0 26.0 82.07246376811594]\n",
            " [1.0 0.0 0.0 1.0 1.0 0.0 1.0 0.0 28.0 89.0]\n",
            " [0.0 1.0 0.0 0.0 0.0 1.0 1.0 0.0 30.0 86.0]\n",
            " [0.0 1.0 0.0 0.0 1.0 0.0 1.0 0.0 35.0 89.0]\n",
            " [0.0 1.0 0.0 0.0 1.0 0.0 0.0 1.0 32.0 84.0]\n",
            " [0.0 1.0 0.0 0.0 0.0 1.0 1.0 0.0 45.130434782608695 90.0]\n",
            " [0.0 1.0 0.0 0.0 1.0 0.0 1.0 0.0 32.0 89.0]\n",
            " [0.0 1.0 0.0 0.0 1.0 0.0 0.0 1.0 35.0 92.0]\n",
            " [1.0 0.0 1.0 0.0 1.0 0.0 1.0 0.0 38.0 75.0]\n",
            " [0.0 1.0 0.0 0.0 1.0 0.0 0.0 1.0 40.0 90.0]\n",
            " [1.0 0.0 1.0 0.0 0.0 1.0 1.0 0.0 46.0 91.0]\n",
            " [0.0 1.0 0.0 0.0 1.0 0.0 0.0 1.0 48.0 93.0]\n",
            " [1.0 0.0 1.0 0.0 1.0 0.0 1.0 0.0 42.0 92.0]\n",
            " [1.0 0.0 1.0 0.0 1.0 0.0 1.0 0.0 40.0 92.0]\n",
            " [0.0 1.0 0.0 0.0 1.0 0.0 1.0 0.0 49.0 80.0]\n",
            " [1.0 0.0 1.0 0.0 0.0 1.0 0.0 1.0 50.0 77.0]\n",
            " [1.0 0.0 1.0 0.0 0.0 1.0 1.0 0.0 36.0 90.0]\n",
            " [1.0 0.0 1.0 0.0 0.0 1.0 0.0 1.0 52.0 80.0]\n",
            " [1.0 0.0 1.0 0.0 0.0 1.0 0.0 1.0 56.0 77.0]\n",
            " [1.0 0.0 1.0 0.0 1.0 0.0 1.0 0.0 58.0 70.0]\n",
            " [1.0 0.0 1.0 0.0 1.0 0.0 0.0 1.0 59.0 69.0]\n",
            " [1.0 0.0 1.0 0.0 0.0 1.0 0.0 1.0 60.0 68.0]\n",
            " [1.0 0.0 1.0 0.0 0.0 1.0 1.0 0.0 53.0 55.0]\n",
            " [1.0 0.0 1.0 0.0 0.0 1.0 0.0 1.0 54.0 70.0]\n",
            " [1.0 0.0 1.0 0.0 0.0 1.0 0.0 1.0 62.0 68.0]\n",
            " [1.0 0.0 1.0 0.0 0.0 1.0 0.0 1.0 63.0 66.0]\n",
            " [1.0 0.0 1.0 0.0 0.0 1.0 1.0 0.0 68.0 67.0]\n",
            " [1.0 0.0 1.0 0.0 1.0 0.0 0.0 1.0 69.0 53.0]\n",
            " [1.0 0.0 1.0 0.0 0.0 1.0 0.0 1.0 64.0 73.0]\n",
            " [1.0 0.0 1.0 0.0 0.0 1.0 0.0 1.0 61.0 76.0]\n",
            " [1.0 0.0 0.0 1.0 1.0 0.0 0.0 1.0 70.0 88.0]\n",
            " [1.0 0.0 1.0 0.0 0.0 1.0 1.0 0.0 59.0 68.0]\n",
            " [1.0 0.0 1.0 0.0 0.0 1.0 0.0 1.0 62.0 69.0]\n",
            " [1.0 0.0 1.0 0.0 0.0 1.0 0.0 1.0 78.0 71.0]\n",
            " [1.0 0.0 1.0 0.0 0.0 1.0 0.0 1.0 74.0 75.0]\n",
            " [1.0 0.0 1.0 0.0 1.0 0.0 0.0 1.0 75.0 72.0]\n",
            " [1.0 0.0 1.0 0.0 0.0 1.0 1.0 0.0 56.0 76.0]\n",
            " [1.0 0.0 1.0 0.0 1.0 0.0 0.0 1.0 80.0 92.0]\n",
            " [1.0 0.0 1.0 0.0 0.0 1.0 0.0 1.0 82.0 73.0]\n",
            " [1.0 0.0 1.0 0.0 0.0 1.0 0.0 1.0 86.0 71.0]\n",
            " [1.0 0.0 1.0 0.0 0.0 1.0 0.0 1.0 90.0 67.0]\n",
            " [1.0 0.0 1.0 0.0 0.0 1.0 0.0 1.0 84.0 75.0]\n",
            " [1.0 0.0 1.0 0.0 1.0 0.0 0.0 1.0 86.0 76.0]\n",
            " [0.0 1.0 0.0 0.0 1.0 0.0 0.0 1.0 61.0 90.0]\n",
            " [1.0 0.0 1.0 0.0 0.0 1.0 0.0 1.0 94.0 64.0]\n",
            " [1.0 0.0 1.0 0.0 0.0 1.0 0.0 1.0 81.0 75.0]\n",
            " [1.0 0.0 1.0 0.0 0.0 1.0 0.0 1.0 76.0 80.0]]\n"
          ]
        }
      ]
    },
    {
      "cell_type": "code",
      "source": [
        "from sklearn.preprocessing import LabelEncoder\n",
        "le = LabelEncoder()\n",
        "y = le.fit_transform(y)\n"
      ],
      "metadata": {
        "id": "_sGYb84z-oFe"
      },
      "execution_count": null,
      "outputs": []
    },
    {
      "cell_type": "code",
      "source": [
        "print(y)"
      ],
      "metadata": {
        "colab": {
          "base_uri": "https://localhost:8080/"
        },
        "id": "d9ciXni4AKuX",
        "outputId": "4438b377-e781-40d1-b30d-bc31e9591552"
      },
      "execution_count": null,
      "outputs": [
        {
          "output_type": "stream",
          "name": "stdout",
          "text": [
            "[0 0 0 0 0 0 0 0 1 0 0 0 0 0 0 0 0 0 0 0 1 0 0 0 0 0 0 0 0 0 0 1 0 0 0 0 0\n",
            " 1 1 0 1 1 1 1 1 1 1 1 1 1 1 1 1 0 1 1 1 1 1 1 0 1 1 1 1 1 0 1 1 1]\n"
          ]
        }
      ]
    },
    {
      "cell_type": "code",
      "source": [
        "from sklearn.model_selection import train_test_split\n",
        "X_train, X_test, y_train, y_test = train_test_split(X, y, test_size = 0.5, random_state = 40)"
      ],
      "metadata": {
        "id": "5px4CEd6EenL"
      },
      "execution_count": null,
      "outputs": []
    },
    {
      "cell_type": "code",
      "source": [
        "print(X_train)"
      ],
      "metadata": {
        "colab": {
          "base_uri": "https://localhost:8080/"
        },
        "id": "c0njuq98Ez4p",
        "outputId": "d12f48b6-04e5-4b81-c1bc-ffc85388edf4"
      },
      "execution_count": null,
      "outputs": [
        {
          "output_type": "stream",
          "name": "stdout",
          "text": [
            "[[1.0 0.0 0.0 1.0 1.0 0.0 0.0 1.0 70.0 88.0]\n",
            " [1.0 0.0 0.0 1.0 1.0 0.0 1.0 0.0 28.0 99.0]\n",
            " [1.0 0.0 0.0 1.0 1.0 0.0 1.0 0.0 18.0 93.0]\n",
            " [1.0 0.0 1.0 0.0 0.0 1.0 0.0 1.0 62.0 68.0]\n",
            " [1.0 0.0 1.0 0.0 0.0 1.0 0.0 1.0 74.0 75.0]\n",
            " [1.0 0.0 1.0 0.0 0.0 1.0 0.0 1.0 90.0 67.0]\n",
            " [1.0 0.0 1.0 0.0 1.0 0.0 1.0 0.0 42.0 92.0]\n",
            " [1.0 0.0 1.0 0.0 0.0 1.0 0.0 1.0 94.0 64.0]\n",
            " [1.0 0.0 0.0 1.0 1.0 0.0 1.0 0.0 10.0 97.0]\n",
            " [1.0 0.0 0.0 1.0 1.0 0.0 0.0 1.0 25.0 86.0]\n",
            " [1.0 0.0 1.0 0.0 0.0 1.0 1.0 0.0 56.0 76.0]\n",
            " [1.0 0.0 1.0 0.0 0.0 1.0 0.0 1.0 52.0 80.0]\n",
            " [0.0 1.0 0.0 0.0 0.0 1.0 1.0 0.0 45.130434782608695 90.0]\n",
            " [1.0 0.0 0.0 1.0 1.0 0.0 1.0 0.0 20.0 92.0]\n",
            " [0.0 1.0 0.0 0.0 1.0 0.0 1.0 0.0 25.0 93.0]\n",
            " [0.0 1.0 0.0 0.0 1.0 0.0 0.0 1.0 35.0 92.0]\n",
            " [0.0 1.0 0.0 0.0 1.0 0.0 1.0 0.0 18.0 66.0]\n",
            " [1.0 0.0 1.0 0.0 1.0 0.0 0.0 1.0 75.0 72.0]\n",
            " [1.0 0.0 1.0 0.0 0.0 1.0 1.0 0.0 68.0 67.0]\n",
            " [0.0 1.0 0.0 0.0 1.0 0.0 0.0 1.0 40.0 90.0]\n",
            " [1.0 0.0 0.0 1.0 1.0 0.0 1.0 0.0 19.0 92.0]\n",
            " [0.0 1.0 0.0 0.0 1.0 0.0 0.0 1.0 32.0 84.0]\n",
            " [1.0 0.0 1.0 0.0 0.0 1.0 0.0 1.0 82.0 73.0]\n",
            " [1.0 0.0 1.0 0.0 0.0 1.0 0.0 1.0 62.0 69.0]\n",
            " [1.0 0.0 0.0 1.0 1.0 0.0 1.0 0.0 20.0 93.0]\n",
            " [1.0 0.0 1.0 0.0 1.0 0.0 1.0 0.0 38.0 75.0]\n",
            " [1.0 0.0 0.0 1.0 1.0 0.0 1.0 0.0 29.0 93.0]\n",
            " [0.0 1.0 0.0 0.0 1.0 0.0 0.0 1.0 61.0 90.0]\n",
            " [1.0 0.0 1.0 0.0 0.0 1.0 0.0 1.0 76.0 80.0]\n",
            " [1.0 0.0 0.0 1.0 1.0 0.0 1.0 0.0 16.0 92.0]\n",
            " [1.0 0.0 1.0 0.0 1.0 0.0 0.0 1.0 86.0 76.0]\n",
            " [1.0 0.0 1.0 0.0 1.0 0.0 0.0 1.0 69.0 53.0]\n",
            " [1.0 0.0 1.0 0.0 0.0 1.0 0.0 1.0 78.0 71.0]\n",
            " [0.0 1.0 0.0 0.0 1.0 0.0 1.0 0.0 49.0 80.0]\n",
            " [0.0 1.0 0.0 0.0 1.0 0.0 1.0 0.0 15.0 92.0]]\n"
          ]
        }
      ]
    },
    {
      "cell_type": "code",
      "source": [
        "print(X_test)"
      ],
      "metadata": {
        "colab": {
          "base_uri": "https://localhost:8080/"
        },
        "id": "z1jsd6aPE5i0",
        "outputId": "2f967349-f7b8-4e60-ef44-a0c12d28b276"
      },
      "execution_count": null,
      "outputs": [
        {
          "output_type": "stream",
          "name": "stdout",
          "text": [
            "[[1.0 0.0 1.0 0.0 0.0 1.0 0.0 1.0 60.0 68.0]\n",
            " [1.0 0.0 0.0 1.0 1.0 0.0 1.0 0.0 10.0 97.0]\n",
            " [1.0 0.0 1.0 0.0 1.0 0.0 0.0 1.0 80.0 92.0]\n",
            " [1.0 0.0 1.0 0.0 0.0 1.0 0.0 1.0 64.0 73.0]\n",
            " [0.0 1.0 0.0 0.0 1.0 0.0 1.0 0.0 35.0 89.0]\n",
            " [1.0 0.0 0.0 1.0 1.0 0.0 1.0 0.0 19.0 89.0]\n",
            " [0.0 1.0 0.0 0.0 1.0 0.0 1.0 0.0 13.0 94.0]\n",
            " [1.0 0.0 0.0 1.0 1.0 0.0 1.0 0.0 28.0 89.0]\n",
            " [1.0 0.0 1.0 0.0 0.0 1.0 1.0 0.0 59.0 68.0]\n",
            " [1.0 0.0 1.0 0.0 0.0 1.0 0.0 1.0 81.0 75.0]\n",
            " [1.0 0.0 1.0 0.0 1.0 0.0 1.0 0.0 26.0 94.0]\n",
            " [0.0 1.0 0.0 0.0 1.0 0.0 1.0 0.0 13.0 93.0]\n",
            " [1.0 0.0 1.0 0.0 1.0 0.0 1.0 0.0 58.0 70.0]\n",
            " [1.0 0.0 1.0 0.0 0.0 1.0 0.0 1.0 50.0 77.0]\n",
            " [1.0 0.0 1.0 0.0 0.0 1.0 1.0 0.0 36.0 90.0]\n",
            " [0.0 1.0 0.0 0.0 1.0 0.0 1.0 0.0 30.0 62.0]\n",
            " [1.0 0.0 1.0 0.0 0.0 1.0 0.0 1.0 63.0 66.0]\n",
            " [1.0 0.0 1.0 0.0 0.0 1.0 0.0 1.0 56.0 77.0]\n",
            " [1.0 0.0 1.0 0.0 0.0 1.0 1.0 0.0 46.0 91.0]\n",
            " [0.0 1.0 0.0 0.0 1.0 0.0 1.0 0.0 32.0 89.0]\n",
            " [1.0 0.0 1.0 0.0 0.0 1.0 0.0 1.0 61.0 76.0]\n",
            " [1.0 0.0 1.0 0.0 0.0 1.0 0.0 1.0 54.0 70.0]\n",
            " [1.0 0.0 0.0 1.0 1.0 0.0 1.0 0.0 12.0 97.0]\n",
            " [0.0 1.0 0.0 0.0 1.0 0.0 1.0 0.0 24.0 92.0]\n",
            " [0.0 1.0 0.0 0.0 1.0 0.0 1.0 0.0 12.0 97.0]\n",
            " [1.0 0.0 1.0 0.0 0.0 1.0 0.0 1.0 84.0 75.0]\n",
            " [1.0 0.0 1.0 0.0 1.0 0.0 1.0 0.0 40.0 92.0]\n",
            " [1.0 0.0 0.0 1.0 1.0 0.0 1.0 0.0 15.0 94.0]\n",
            " [1.0 0.0 1.0 0.0 0.0 1.0 1.0 0.0 53.0 55.0]\n",
            " [0.0 1.0 0.0 0.0 1.0 0.0 0.0 1.0 48.0 93.0]\n",
            " [1.0 0.0 0.0 1.0 1.0 0.0 1.0 0.0 17.0 93.0]\n",
            " [0.0 1.0 0.0 0.0 0.0 1.0 1.0 0.0 30.0 86.0]\n",
            " [1.0 0.0 0.0 1.0 1.0 0.0 1.0 0.0 26.0 82.07246376811594]\n",
            " [1.0 0.0 1.0 0.0 0.0 1.0 0.0 1.0 86.0 71.0]\n",
            " [1.0 0.0 1.0 0.0 1.0 0.0 0.0 1.0 59.0 69.0]]\n"
          ]
        }
      ]
    },
    {
      "cell_type": "code",
      "source": [
        "print(y_train)"
      ],
      "metadata": {
        "colab": {
          "base_uri": "https://localhost:8080/"
        },
        "id": "wtMLtRORE_qM",
        "outputId": "00e73618-f8e6-406c-f036-2fa528835272"
      },
      "execution_count": null,
      "outputs": [
        {
          "output_type": "stream",
          "name": "stdout",
          "text": [
            "[0 0 0 1 1 1 0 1 0 0 1 1 0 0 0 0 1 1 1 0 0 0 1 1 0 1 0 0 1 0 1 1 1 1 0]\n"
          ]
        }
      ]
    },
    {
      "cell_type": "code",
      "source": [
        "print(y_test)"
      ],
      "metadata": {
        "colab": {
          "base_uri": "https://localhost:8080/"
        },
        "id": "GGd0OV9dFDHh",
        "outputId": "7b5d87d4-8ce2-45f6-e4d8-60dce4c80067"
      },
      "execution_count": null,
      "outputs": [
        {
          "output_type": "stream",
          "name": "stdout",
          "text": [
            "[1 0 0 1 0 0 0 0 1 1 0 0 1 1 0 1 1 1 0 0 1 1 0 0 0 1 0 0 1 0 0 0 0 1 1]\n"
          ]
        }
      ]
    },
    {
      "cell_type": "code",
      "source": [
        "from sklearn.preprocessing import StandardScaler\n",
        "sc = StandardScaler()\n",
        "X_train[:, 6:] = sc.fit_transform(X_train[:, 6:])\n",
        "X_test[:, 6:] = sc.fit_transform(X_test[:, 6:])"
      ],
      "metadata": {
        "id": "my0u7MgAHWh1"
      },
      "execution_count": null,
      "outputs": []
    },
    {
      "cell_type": "code",
      "source": [
        "print(X_train)"
      ],
      "metadata": {
        "colab": {
          "base_uri": "https://localhost:8080/"
        },
        "id": "XpDQUwb4LMFs",
        "outputId": "f608fe3b-60de-4cf1-b17d-40ec97f01802"
      },
      "execution_count": null,
      "outputs": [
        {
          "output_type": "stream",
          "name": "stdout",
          "text": [
            "[[1.0 0.0 0.0 1.0 1.0 0.0 -0.9718253158075504 0.9718253158075504\n",
            "  0.8834362001297471 0.5504991160885059]\n",
            " [1.0 0.0 0.0 1.0 1.0 0.0 1.0289915108550531 -1.0289915108550531\n",
            "  -0.8012213253291784 1.5138725692433903]\n",
            " [1.0 0.0 0.0 1.0 1.0 0.0 1.0289915108550531 -1.0289915108550531\n",
            "  -1.202330259962256 0.988396140249817]\n",
            " [1.0 0.0 1.0 0.0 0.0 1.0 -0.9718253158075504 0.9718253158075504\n",
            "  0.5625490524232851 -1.2010889805567384]\n",
            " [1.0 0.0 1.0 0.0 0.0 1.0 -0.9718253158075504 0.9718253158075504\n",
            "  1.0438797739829782 -0.5880331467309029]\n",
            " [1.0 0.0 1.0 0.0 0.0 1.0 -0.9718253158075504 0.9718253158075504\n",
            "  1.6856540693959021 -1.2886683853890006]\n",
            " [1.0 0.0 1.0 0.0 1.0 0.0 1.0289915108550531 -1.0289915108550531\n",
            "  -0.23966881684286995 0.9008167354175548]\n",
            " [1.0 0.0 1.0 0.0 0.0 1.0 -0.9718253158075504 0.9718253158075504\n",
            "  1.8460976432491332 -1.5514065998857873]\n",
            " [1.0 0.0 0.0 1.0 1.0 0.0 1.0289915108550531 -1.0289915108550531\n",
            "  -1.523217407668718 1.3387137595788658]\n",
            " [1.0 0.0 0.0 1.0 1.0 0.0 -0.9718253158075504 0.9718253158075504\n",
            "  -0.9215540057191017 0.3753403064239815]\n",
            " [1.0 0.0 1.0 0.0 0.0 1.0 1.0289915108550531 -1.0289915108550531\n",
            "  0.3218836916434386 -0.5004537418986408]\n",
            " [1.0 0.0 1.0 0.0 0.0 1.0 -0.9718253158075504 0.9718253158075504\n",
            "  0.1614401177902076 -0.15013612256959186]\n",
            " [0.0 1.0 0.0 0.0 0.0 1.0 1.0289915108550531 -1.0289915108550531\n",
            "  -0.1141042807838196 0.7256579257530303]\n",
            " [1.0 0.0 0.0 1.0 1.0 0.0 1.0289915108550531 -1.0289915108550531\n",
            "  -1.1221084730356405 0.9008167354175548]\n",
            " [0.0 1.0 0.0 0.0 1.0 0.0 1.0289915108550531 -1.0289915108550531\n",
            "  -0.9215540057191017 0.988396140249817]\n",
            " [0.0 1.0 0.0 0.0 1.0 0.0 -0.9718253158075504 0.9718253158075504\n",
            "  -0.5204450710860242 0.9008167354175548]\n",
            " [0.0 1.0 0.0 0.0 1.0 0.0 1.0289915108550531 -1.0289915108550531\n",
            "  -1.202330259962256 -1.3762477902212629]\n",
            " [1.0 0.0 1.0 0.0 1.0 0.0 -0.9718253158075504 0.9718253158075504\n",
            "  1.0839906674462858 -0.8507713612276896]\n",
            " [1.0 0.0 1.0 0.0 0.0 1.0 1.0289915108550531 -1.0289915108550531\n",
            "  0.8032144132031316 -1.2886683853890006]\n",
            " [0.0 1.0 0.0 0.0 1.0 0.0 -0.9718253158075504 0.9718253158075504\n",
            "  -0.31989060376948547 0.7256579257530303]\n",
            " [1.0 0.0 0.0 1.0 1.0 0.0 1.0289915108550531 -1.0289915108550531\n",
            "  -1.1622193664989482 0.9008167354175548]\n",
            " [0.0 1.0 0.0 0.0 1.0 0.0 -0.9718253158075504 0.9718253158075504\n",
            "  -0.6407777514759475 0.20018149675945704]\n",
            " [1.0 0.0 1.0 0.0 0.0 1.0 -0.9718253158075504 0.9718253158075504\n",
            "  1.3647669216894402 -0.7631919563954274]\n",
            " [1.0 0.0 1.0 0.0 0.0 1.0 -0.9718253158075504 0.9718253158075504\n",
            "  0.5625490524232851 -1.1135095757244762]\n",
            " [1.0 0.0 0.0 1.0 1.0 0.0 1.0289915108550531 -1.0289915108550531\n",
            "  -1.1221084730356405 0.988396140249817]\n",
            " [1.0 0.0 1.0 0.0 1.0 0.0 1.0289915108550531 -1.0289915108550531\n",
            "  -0.40011239069610094 -0.5880331467309029]\n",
            " [1.0 0.0 0.0 1.0 1.0 0.0 1.0289915108550531 -1.0289915108550531\n",
            "  -0.7611104318658707 0.988396140249817]\n",
            " [0.0 1.0 0.0 0.0 1.0 0.0 -0.9718253158075504 0.9718253158075504\n",
            "  0.5224381589599774 0.7256579257530303]\n",
            " [1.0 0.0 1.0 0.0 0.0 1.0 -0.9718253158075504 0.9718253158075504\n",
            "  1.1241015609095937 -0.15013612256959186]\n",
            " [1.0 0.0 0.0 1.0 1.0 0.0 1.0289915108550531 -1.0289915108550531\n",
            "  -1.2825520468888716 0.9008167354175548]\n",
            " [1.0 0.0 1.0 0.0 1.0 0.0 -0.9718253158075504 0.9718253158075504\n",
            "  1.525210495542671 -0.5004537418986408]\n",
            " [1.0 0.0 1.0 0.0 1.0 0.0 -0.9718253158075504 0.9718253158075504\n",
            "  0.8433253066664393 -2.514780053040672]\n",
            " [1.0 0.0 1.0 0.0 0.0 1.0 -0.9718253158075504 0.9718253158075504\n",
            "  1.2043233478362092 -0.9383507660599518]\n",
            " [0.0 1.0 0.0 0.0 1.0 0.0 1.0289915108550531 -1.0289915108550531\n",
            "  0.04110743740028433 -0.15013612256959186]\n",
            " [0.0 1.0 0.0 0.0 1.0 0.0 1.0289915108550531 -1.0289915108550531\n",
            "  -1.3226629403521792 0.9008167354175548]]\n"
          ]
        }
      ]
    },
    {
      "cell_type": "code",
      "source": [
        "print(X_test)"
      ],
      "metadata": {
        "colab": {
          "base_uri": "https://localhost:8080/"
        },
        "id": "71oaDI9VLP8x",
        "outputId": "9dc200c1-d551-4588-fce2-7621748fe5fe"
      },
      "execution_count": null,
      "outputs": [
        {
          "output_type": "stream",
          "name": "stdout",
          "text": [
            "[[1.0 0.0 1.0 0.0 0.0 1.0 -1.3008872711759814 1.3008872711759814\n",
            "  0.7903766762807177 -1.239957882075372]\n",
            " [1.0 0.0 0.0 1.0 1.0 0.0 0.7687061147858072 -0.7687061147858072\n",
            "  -1.4405252325761466 1.2518771328786795]\n",
            " [1.0 0.0 1.0 0.0 1.0 0.0 -1.3008872711759814 1.3008872711759814\n",
            "  1.6827374398234636 0.8222504061624637]\n",
            " [1.0 0.0 1.0 0.0 0.0 1.0 -1.3008872711759814 1.3008872711759814\n",
            "  0.9688488289892669 -0.8103311553591562]\n",
            " [0.0 1.0 0.0 0.0 1.0 0.0 0.7687061147858072 -0.7687061147858072\n",
            "  -0.3250742781477145 0.5644743701327342]\n",
            " [1.0 0.0 0.0 1.0 1.0 0.0 0.7687061147858072 -0.7687061147858072\n",
            "  -1.0389628889819111 0.5644743701327342]\n",
            " [0.0 1.0 0.0 0.0 1.0 0.0 0.7687061147858072 -0.7687061147858072\n",
            "  -1.3066711180447348 0.99410109684895]\n",
            " [1.0 0.0 0.0 1.0 1.0 0.0 0.7687061147858072 -0.7687061147858072\n",
            "  -0.6374005453876755 0.5644743701327342]\n",
            " [1.0 0.0 1.0 0.0 0.0 1.0 0.7687061147858072 -0.7687061147858072\n",
            "  0.7457586381035805 -1.239957882075372]\n",
            " [1.0 0.0 1.0 0.0 0.0 1.0 -1.3008872711759814 1.3008872711759814\n",
            "  1.7273554780006009 -0.63848046467267]\n",
            " [1.0 0.0 1.0 0.0 1.0 0.0 0.7687061147858072 -0.7687061147858072\n",
            "  -0.7266366217419501 0.99410109684895]\n",
            " [0.0 1.0 0.0 0.0 1.0 0.0 0.7687061147858072 -0.7687061147858072\n",
            "  -1.3066711180447348 0.9081757515057068]\n",
            " [1.0 0.0 1.0 0.0 1.0 0.0 0.7687061147858072 -0.7687061147858072\n",
            "  0.7011405999264432 -1.0681071913888858]\n",
            " [1.0 0.0 1.0 0.0 0.0 1.0 -1.3008872711759814 1.3008872711759814\n",
            "  0.34419629450934486 -0.46662977398618366]\n",
            " [1.0 0.0 1.0 0.0 0.0 1.0 0.7687061147858072 -0.7687061147858072\n",
            "  -0.2804562399705772 0.6503997154759774]\n",
            " [0.0 1.0 0.0 0.0 1.0 0.0 0.7687061147858072 -0.7687061147858072\n",
            "  -0.548164469033401 -1.755509954134831]\n",
            " [1.0 0.0 1.0 0.0 0.0 1.0 -1.3008872711759814 1.3008872711759814\n",
            "  0.9242307908121296 -1.4118085727618583]\n",
            " [1.0 0.0 1.0 0.0 0.0 1.0 -1.3008872711759814 1.3008872711759814\n",
            "  0.6119045235721686 -0.46662977398618366]\n",
            " [1.0 0.0 1.0 0.0 0.0 1.0 0.7687061147858072 -0.7687061147858072\n",
            "  0.1657241418007957 0.7363250608192206]\n",
            " [0.0 1.0 0.0 0.0 1.0 0.0 0.7687061147858072 -0.7687061147858072\n",
            "  -0.4589283926791264 0.5644743701327342]\n",
            " [1.0 0.0 1.0 0.0 0.0 1.0 -1.3008872711759814 1.3008872711759814\n",
            "  0.834994714457855 -0.5525551193294268]\n",
            " [1.0 0.0 1.0 0.0 0.0 1.0 -1.3008872711759814 1.3008872711759814\n",
            "  0.522668447217894 -1.0681071913888858]\n",
            " [1.0 0.0 0.0 1.0 1.0 0.0 0.7687061147858072 -0.7687061147858072\n",
            "  -1.351289156221872 1.2518771328786795]\n",
            " [0.0 1.0 0.0 0.0 1.0 0.0 0.7687061147858072 -0.7687061147858072\n",
            "  -0.8158726980962246 0.8222504061624637]\n",
            " [0.0 1.0 0.0 0.0 1.0 0.0 0.7687061147858072 -0.7687061147858072\n",
            "  -1.351289156221872 1.2518771328786795]\n",
            " [1.0 0.0 1.0 0.0 0.0 1.0 -1.3008872711759814 1.3008872711759814\n",
            "  1.8612095925320127 -0.63848046467267]\n",
            " [1.0 0.0 1.0 0.0 1.0 0.0 0.7687061147858072 -0.7687061147858072\n",
            "  -0.10198408726202804 0.8222504061624637]\n",
            " [1.0 0.0 0.0 1.0 1.0 0.0 0.7687061147858072 -0.7687061147858072\n",
            "  -1.2174350416904602 0.99410109684895]\n",
            " [1.0 0.0 1.0 0.0 0.0 1.0 0.7687061147858072 -0.7687061147858072\n",
            "  0.47805040904075674 -2.356987371537533]\n",
            " [0.0 1.0 0.0 0.0 1.0 0.0 -1.3008872711759814 1.3008872711759814\n",
            "  0.25496021815507025 0.9081757515057068]\n",
            " [1.0 0.0 0.0 1.0 1.0 0.0 0.7687061147858072 -0.7687061147858072\n",
            "  -1.1281989653361857 0.9081757515057068]\n",
            " [0.0 1.0 0.0 0.0 0.0 1.0 0.7687061147858072 -0.7687061147858072\n",
            "  -0.548164469033401 0.30669833410300473]\n",
            " [1.0 0.0 0.0 1.0 1.0 0.0 0.7687061147858072 -0.7687061147858072\n",
            "  -0.7266366217419501 -0.030776572969733226]\n",
            " [1.0 0.0 1.0 0.0 0.0 1.0 -1.3008872711759814 1.3008872711759814\n",
            "  1.9504456688862872 -0.9821818460456426]\n",
            " [1.0 0.0 1.0 0.0 1.0 0.0 -1.3008872711759814 1.3008872711759814\n",
            "  0.7457586381035805 -1.154032536732129]]\n"
          ]
        }
      ]
    },
    {
      "cell_type": "code",
      "source": [
        "from sklearn.linear_model import LogisticRegression\n",
        "from sklearn.metrics import accuracy_score\n"
      ],
      "metadata": {
        "id": "9R9KcCjRZKPy"
      },
      "execution_count": null,
      "outputs": []
    },
    {
      "cell_type": "code",
      "source": [
        "classifier = LogisticRegression(random_state=42)\n",
        "classifier.fit(X_train, y_train)\n"
      ],
      "metadata": {
        "colab": {
          "base_uri": "https://localhost:8080/",
          "height": 74
        },
        "id": "Y6P_bQvbZORh",
        "outputId": "4e67f06b-a4ae-4ac7-9f98-d25847a69cbe"
      },
      "execution_count": null,
      "outputs": [
        {
          "output_type": "execute_result",
          "data": {
            "text/plain": [
              "LogisticRegression(random_state=42)"
            ],
            "text/html": [
              "<style>#sk-container-id-3 {color: black;}#sk-container-id-3 pre{padding: 0;}#sk-container-id-3 div.sk-toggleable {background-color: white;}#sk-container-id-3 label.sk-toggleable__label {cursor: pointer;display: block;width: 100%;margin-bottom: 0;padding: 0.3em;box-sizing: border-box;text-align: center;}#sk-container-id-3 label.sk-toggleable__label-arrow:before {content: \"▸\";float: left;margin-right: 0.25em;color: #696969;}#sk-container-id-3 label.sk-toggleable__label-arrow:hover:before {color: black;}#sk-container-id-3 div.sk-estimator:hover label.sk-toggleable__label-arrow:before {color: black;}#sk-container-id-3 div.sk-toggleable__content {max-height: 0;max-width: 0;overflow: hidden;text-align: left;background-color: #f0f8ff;}#sk-container-id-3 div.sk-toggleable__content pre {margin: 0.2em;color: black;border-radius: 0.25em;background-color: #f0f8ff;}#sk-container-id-3 input.sk-toggleable__control:checked~div.sk-toggleable__content {max-height: 200px;max-width: 100%;overflow: auto;}#sk-container-id-3 input.sk-toggleable__control:checked~label.sk-toggleable__label-arrow:before {content: \"▾\";}#sk-container-id-3 div.sk-estimator input.sk-toggleable__control:checked~label.sk-toggleable__label {background-color: #d4ebff;}#sk-container-id-3 div.sk-label input.sk-toggleable__control:checked~label.sk-toggleable__label {background-color: #d4ebff;}#sk-container-id-3 input.sk-hidden--visually {border: 0;clip: rect(1px 1px 1px 1px);clip: rect(1px, 1px, 1px, 1px);height: 1px;margin: -1px;overflow: hidden;padding: 0;position: absolute;width: 1px;}#sk-container-id-3 div.sk-estimator {font-family: monospace;background-color: #f0f8ff;border: 1px dotted black;border-radius: 0.25em;box-sizing: border-box;margin-bottom: 0.5em;}#sk-container-id-3 div.sk-estimator:hover {background-color: #d4ebff;}#sk-container-id-3 div.sk-parallel-item::after {content: \"\";width: 100%;border-bottom: 1px solid gray;flex-grow: 1;}#sk-container-id-3 div.sk-label:hover label.sk-toggleable__label {background-color: #d4ebff;}#sk-container-id-3 div.sk-serial::before {content: \"\";position: absolute;border-left: 1px solid gray;box-sizing: border-box;top: 0;bottom: 0;left: 50%;z-index: 0;}#sk-container-id-3 div.sk-serial {display: flex;flex-direction: column;align-items: center;background-color: white;padding-right: 0.2em;padding-left: 0.2em;position: relative;}#sk-container-id-3 div.sk-item {position: relative;z-index: 1;}#sk-container-id-3 div.sk-parallel {display: flex;align-items: stretch;justify-content: center;background-color: white;position: relative;}#sk-container-id-3 div.sk-item::before, #sk-container-id-3 div.sk-parallel-item::before {content: \"\";position: absolute;border-left: 1px solid gray;box-sizing: border-box;top: 0;bottom: 0;left: 50%;z-index: -1;}#sk-container-id-3 div.sk-parallel-item {display: flex;flex-direction: column;z-index: 1;position: relative;background-color: white;}#sk-container-id-3 div.sk-parallel-item:first-child::after {align-self: flex-end;width: 50%;}#sk-container-id-3 div.sk-parallel-item:last-child::after {align-self: flex-start;width: 50%;}#sk-container-id-3 div.sk-parallel-item:only-child::after {width: 0;}#sk-container-id-3 div.sk-dashed-wrapped {border: 1px dashed gray;margin: 0 0.4em 0.5em 0.4em;box-sizing: border-box;padding-bottom: 0.4em;background-color: white;}#sk-container-id-3 div.sk-label label {font-family: monospace;font-weight: bold;display: inline-block;line-height: 1.2em;}#sk-container-id-3 div.sk-label-container {text-align: center;}#sk-container-id-3 div.sk-container {/* jupyter's `normalize.less` sets `[hidden] { display: none; }` but bootstrap.min.css set `[hidden] { display: none !important; }` so we also need the `!important` here to be able to override the default hidden behavior on the sphinx rendered scikit-learn.org. See: https://github.com/scikit-learn/scikit-learn/issues/21755 */display: inline-block !important;position: relative;}#sk-container-id-3 div.sk-text-repr-fallback {display: none;}</style><div id=\"sk-container-id-3\" class=\"sk-top-container\"><div class=\"sk-text-repr-fallback\"><pre>LogisticRegression(random_state=42)</pre><b>In a Jupyter environment, please rerun this cell to show the HTML representation or trust the notebook. <br />On GitHub, the HTML representation is unable to render, please try loading this page with nbviewer.org.</b></div><div class=\"sk-container\" hidden><div class=\"sk-item\"><div class=\"sk-estimator sk-toggleable\"><input class=\"sk-toggleable__control sk-hidden--visually\" id=\"sk-estimator-id-3\" type=\"checkbox\" checked><label for=\"sk-estimator-id-3\" class=\"sk-toggleable__label sk-toggleable__label-arrow\">LogisticRegression</label><div class=\"sk-toggleable__content\"><pre>LogisticRegression(random_state=42)</pre></div></div></div></div></div>"
            ]
          },
          "metadata": {},
          "execution_count": 55
        }
      ]
    },
    {
      "cell_type": "code",
      "source": [
        "y_pred = classifier.predict(X_test)\n"
      ],
      "metadata": {
        "id": "yMNU2vKIaPyu"
      },
      "execution_count": null,
      "outputs": []
    },
    {
      "cell_type": "code",
      "source": [
        "accuracy = accuracy_score(y_test, y_pred)\n",
        "print(f\"Accuracy: {accuracy * 100} %\")\n"
      ],
      "metadata": {
        "colab": {
          "base_uri": "https://localhost:8080/",
          "height": 158
        },
        "id": "8U0zF0oKaVIy",
        "outputId": "042f2553-a58e-416a-a7db-b631a30e25cc"
      },
      "execution_count": null,
      "outputs": [
        {
          "output_type": "error",
          "ename": "NameError",
          "evalue": "name 'accuracy_score' is not defined",
          "traceback": [
            "\u001b[0;31m---------------------------------------------------------------------------\u001b[0m",
            "\u001b[0;31mNameError\u001b[0m                                 Traceback (most recent call last)",
            "\u001b[0;32m<ipython-input-1-2dc369fd39fd>\u001b[0m in \u001b[0;36m<cell line: 1>\u001b[0;34m()\u001b[0m\n\u001b[0;32m----> 1\u001b[0;31m \u001b[0maccuracy\u001b[0m \u001b[0;34m=\u001b[0m \u001b[0maccuracy_score\u001b[0m\u001b[0;34m(\u001b[0m\u001b[0my_test\u001b[0m\u001b[0;34m,\u001b[0m \u001b[0my_pred\u001b[0m\u001b[0;34m)\u001b[0m\u001b[0;34m\u001b[0m\u001b[0;34m\u001b[0m\u001b[0m\n\u001b[0m\u001b[1;32m      2\u001b[0m \u001b[0mprint\u001b[0m\u001b[0;34m(\u001b[0m\u001b[0;34mf\"Accuracy: {accuracy * 100} %\"\u001b[0m\u001b[0;34m)\u001b[0m\u001b[0;34m\u001b[0m\u001b[0;34m\u001b[0m\u001b[0m\n",
            "\u001b[0;31mNameError\u001b[0m: name 'accuracy_score' is not defined"
          ]
        }
      ]
    },
    {
      "cell_type": "code",
      "source": [
        "data_set.info()"
      ],
      "metadata": {
        "colab": {
          "base_uri": "https://localhost:8080/"
        },
        "id": "vPYiGBGcdrnj",
        "outputId": "d45961af-26e3-4e92-f135-7ca97a168f87"
      },
      "execution_count": null,
      "outputs": [
        {
          "output_type": "stream",
          "name": "stdout",
          "text": [
            "<class 'pandas.core.frame.DataFrame'>\n",
            "RangeIndex: 70 entries, 0 to 69\n",
            "Data columns (total 6 columns):\n",
            " #   Column                        Non-Null Count  Dtype  \n",
            "---  ------                        --------------  -----  \n",
            " 0   age                           69 non-null     float64\n",
            " 1   body_temperature              70 non-null     object \n",
            " 2   chronic_disease               70 non-null     object \n",
            " 3   breathing_issue               70 non-null     object \n",
            " 4   Blood O2 Level in Percentage  69 non-null     float64\n",
            " 5   Needed Hospitalization        70 non-null     object \n",
            "dtypes: float64(2), object(4)\n",
            "memory usage: 3.4+ KB\n"
          ]
        }
      ]
    },
    {
      "cell_type": "markdown",
      "source": [
        "# New Section"
      ],
      "metadata": {
        "id": "cHssu1TELyzQ"
      }
    }
  ]
}