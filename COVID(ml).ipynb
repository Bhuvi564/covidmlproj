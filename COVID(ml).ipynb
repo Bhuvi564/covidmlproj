{
  "nbformat": 4,
  "nbformat_minor": 0,
  "metadata": {
    "colab": {
      "provenance": [],
      "authorship_tag": "ABX9TyPFN8xbBonNnGOPlbLKU7Ig",
      "include_colab_link": true
    },
    "kernelspec": {
      "name": "python3",
      "display_name": "Python 3"
    },
    "language_info": {
      "name": "python"
    }
  },
  "cells": [
    {
      "cell_type": "markdown",
      "metadata": {
        "id": "view-in-github",
        "colab_type": "text"
      },
      "source": [
        "<a href=\"https://colab.research.google.com/github/Bhuvi564/covidmlproj/blob/main/COVID(ml).ipynb\" target=\"_parent\"><img src=\"https://colab.research.google.com/assets/colab-badge.svg\" alt=\"Open In Colab\"/></a>"
      ]
    },
    {
      "cell_type": "code",
      "execution_count": 6,
      "metadata": {
        "id": "8a9ClRTafFiC"
      },
      "outputs": [],
      "source": [
        "import numpy as np\n",
        "import matplotlib.pyplot as plt\n",
        "import pandas as pd"
      ]
    },
    {
      "cell_type": "code",
      "source": [
        "data_set = pd.read_csv('Covid_Data_new.csv')\n",
        "X = data_set.iloc[:, :-1].values\n",
        "y = data_set.iloc[:, -1].values"
      ],
      "metadata": {
        "id": "ypUVJD3EfSTb"
      },
      "execution_count": 7,
      "outputs": []
    },
    {
      "cell_type": "code",
      "source": [
        "print(X)"
      ],
      "metadata": {
        "colab": {
          "base_uri": "https://localhost:8080/"
        },
        "id": "Ya1ckWj8fsCT",
        "outputId": "fcd09c32-59c0-426e-f6d1-17c74a42b77e"
      },
      "execution_count": 8,
      "outputs": [
        {
          "output_type": "stream",
          "name": "stdout",
          "text": [
            "[[10.0 'Normal' 'no' 'no' 97.0]\n",
            " [12.0 'Normal' 'no' 'no' 97.0]\n",
            " [15.0 'Normal' 'no' 'no' 94.0]\n",
            " [10.0 'Normal' 'no' 'no' 97.0]\n",
            " [13.0 'Moderate' 'no' 'no' 94.0]\n",
            " [12.0 'Moderate' 'no' 'no' 97.0]\n",
            " [13.0 'Moderate' 'no' 'no' 93.0]\n",
            " [15.0 'Moderate' 'no' 'no' 92.0]\n",
            " [18.0 'Moderate' 'no' 'no' 66.0]\n",
            " [19.0 'Normal' 'no' 'no' 92.0]\n",
            " [20.0 'Normal' 'no' 'no' 93.0]\n",
            " [17.0 'Normal' 'no' 'no' 93.0]\n",
            " [16.0 'Normal' 'no' 'no' 92.0]\n",
            " [18.0 'Normal' 'no' 'no' 93.0]\n",
            " [20.0 'Normal' 'no' 'no' 92.0]\n",
            " [25.0 'Moderate' 'no' 'no' 93.0]\n",
            " [24.0 'Moderate' 'no' 'no' 92.0]\n",
            " [26.0 'High' 'no' 'no' 94.0]\n",
            " [28.0 'Normal' 'no' 'no' 99.0]\n",
            " [29.0 'Normal' 'no' 'no' 93.0]\n",
            " [30.0 'Moderate' 'no' 'no' 62.0]\n",
            " [19.0 'Normal' 'no' 'no' 89.0]\n",
            " [25.0 'Normal' 'no' 'yes' 86.0]\n",
            " [26.0 'Normal' 'no' 'no' nan]\n",
            " [28.0 'Normal' 'no' 'no' 89.0]\n",
            " [30.0 'Moderate' 'yes' 'no' 86.0]\n",
            " [35.0 'Moderate' 'no' 'no' 89.0]\n",
            " [32.0 'Moderate' 'no' 'yes' 84.0]\n",
            " [nan 'Moderate' 'yes' 'no' 90.0]\n",
            " [32.0 'Moderate' 'no' 'no' 89.0]\n",
            " [35.0 'Moderate' 'no' 'yes' 92.0]\n",
            " [38.0 'High' 'no' 'no' 75.0]\n",
            " [40.0 'Moderate' 'no' 'yes' 90.0]\n",
            " [46.0 'High' 'yes' 'no' 91.0]\n",
            " [48.0 'Moderate' 'no' 'yes' 93.0]\n",
            " [42.0 'High' 'no' 'no' 92.0]\n",
            " [40.0 'High' 'no' 'no' 92.0]\n",
            " [49.0 'Moderate' 'no' 'no' 80.0]\n",
            " [50.0 'High' 'yes' 'yes' 77.0]\n",
            " [36.0 'High' 'yes' 'no' 90.0]\n",
            " [52.0 'High' 'yes' 'yes' 80.0]\n",
            " [56.0 'High' 'yes' 'yes' 77.0]\n",
            " [58.0 'High' 'no' 'no' 70.0]\n",
            " [59.0 'High' 'no' 'yes' 69.0]\n",
            " [60.0 'High' 'yes' 'yes' 68.0]\n",
            " [53.0 'High' 'yes' 'no' 55.0]\n",
            " [54.0 'High' 'yes' 'yes' 70.0]\n",
            " [62.0 'High' 'yes' 'yes' 68.0]\n",
            " [63.0 'High' 'yes' 'yes' 66.0]\n",
            " [68.0 'High' 'yes' 'no' 67.0]\n",
            " [69.0 'High' 'no' 'yes' 53.0]\n",
            " [64.0 'High' 'yes' 'yes' 73.0]\n",
            " [61.0 'High' 'yes' 'yes' 76.0]\n",
            " [70.0 'Normal' 'no' 'yes' 88.0]\n",
            " [59.0 'High' 'yes' 'no' 68.0]\n",
            " [62.0 'High' 'yes' 'yes' 69.0]\n",
            " [78.0 'High' 'yes' 'yes' 71.0]\n",
            " [74.0 'High' 'yes' 'yes' 75.0]\n",
            " [75.0 'High' 'no' 'yes' 72.0]\n",
            " [56.0 'High' 'yes' 'no' 76.0]\n",
            " [80.0 'High' 'no' 'yes' 92.0]\n",
            " [82.0 'High' 'yes' 'yes' 73.0]\n",
            " [86.0 'High' 'yes' 'yes' 71.0]\n",
            " [90.0 'High' 'yes' 'yes' 67.0]\n",
            " [84.0 'High' 'yes' 'yes' 75.0]\n",
            " [86.0 'High' 'no' 'yes' 76.0]\n",
            " [61.0 'Moderate' 'no' 'yes' 90.0]\n",
            " [94.0 'High' 'yes' 'yes' 64.0]\n",
            " [81.0 'High' 'yes' 'yes' 75.0]\n",
            " [76.0 'High' 'yes' 'yes' 80.0]]\n"
          ]
        }
      ]
    },
    {
      "cell_type": "code",
      "source": [
        "print(y)"
      ],
      "metadata": {
        "colab": {
          "base_uri": "https://localhost:8080/"
        },
        "id": "8vZDKWDsgguT",
        "outputId": "2160b6b6-79df-4004-8fc7-d2f959b44aca"
      },
      "execution_count": 9,
      "outputs": [
        {
          "output_type": "stream",
          "name": "stdout",
          "text": [
            "['No' 'No' 'No' 'No' 'No' 'No' 'No' 'No' 'Yes' 'No' 'No' 'No' 'No' 'No'\n",
            " 'No' 'No' 'No' 'No' 'No' 'No' 'Yes' 'No' 'No' 'No' 'No' 'No' 'No' 'No'\n",
            " 'No' 'No' 'No' 'Yes' 'No' 'No' 'No' 'No' 'No' 'Yes' 'Yes' 'No' 'Yes'\n",
            " 'Yes' 'Yes' 'Yes' 'Yes' 'Yes' 'Yes' 'Yes' 'Yes' 'Yes' 'Yes' 'Yes' 'Yes'\n",
            " 'No' 'Yes' 'Yes' 'Yes' 'Yes' 'Yes' 'Yes' 'No' 'Yes' 'Yes' 'Yes' 'Yes'\n",
            " 'Yes' 'No' 'Yes' 'Yes' 'Yes']\n"
          ]
        }
      ]
    },
    {
      "cell_type": "code",
      "source": [
        "from sklearn.impute import SimpleImputer\n",
        "impute = SimpleImputer(missing_values = np.nan, strategy = 'mean')\n",
        "\n",
        "impute.fit(X[:, 0:1])\n",
        "X[:, 0:1] = impute.transform(X[:, 0:1])\n",
        "\n",
        "impute.fit(X[:, 4:5])\n",
        "X[:, 4:5] = impute.transform(X[:, 4:5])"
      ],
      "metadata": {
        "id": "LH1aV0tBthTa"
      },
      "execution_count": 10,
      "outputs": []
    },
    {
      "cell_type": "code",
      "source": [
        "print(X)"
      ],
      "metadata": {
        "colab": {
          "base_uri": "https://localhost:8080/"
        },
        "id": "X518aUw0zeW3",
        "outputId": "b8fd16fa-7494-4562-afbe-cbf43d927a69"
      },
      "execution_count": 11,
      "outputs": [
        {
          "output_type": "stream",
          "name": "stdout",
          "text": [
            "[[10.0 'Normal' 'no' 'no' 97.0]\n",
            " [12.0 'Normal' 'no' 'no' 97.0]\n",
            " [15.0 'Normal' 'no' 'no' 94.0]\n",
            " [10.0 'Normal' 'no' 'no' 97.0]\n",
            " [13.0 'Moderate' 'no' 'no' 94.0]\n",
            " [12.0 'Moderate' 'no' 'no' 97.0]\n",
            " [13.0 'Moderate' 'no' 'no' 93.0]\n",
            " [15.0 'Moderate' 'no' 'no' 92.0]\n",
            " [18.0 'Moderate' 'no' 'no' 66.0]\n",
            " [19.0 'Normal' 'no' 'no' 92.0]\n",
            " [20.0 'Normal' 'no' 'no' 93.0]\n",
            " [17.0 'Normal' 'no' 'no' 93.0]\n",
            " [16.0 'Normal' 'no' 'no' 92.0]\n",
            " [18.0 'Normal' 'no' 'no' 93.0]\n",
            " [20.0 'Normal' 'no' 'no' 92.0]\n",
            " [25.0 'Moderate' 'no' 'no' 93.0]\n",
            " [24.0 'Moderate' 'no' 'no' 92.0]\n",
            " [26.0 'High' 'no' 'no' 94.0]\n",
            " [28.0 'Normal' 'no' 'no' 99.0]\n",
            " [29.0 'Normal' 'no' 'no' 93.0]\n",
            " [30.0 'Moderate' 'no' 'no' 62.0]\n",
            " [19.0 'Normal' 'no' 'no' 89.0]\n",
            " [25.0 'Normal' 'no' 'yes' 86.0]\n",
            " [26.0 'Normal' 'no' 'no' 82.07246376811594]\n",
            " [28.0 'Normal' 'no' 'no' 89.0]\n",
            " [30.0 'Moderate' 'yes' 'no' 86.0]\n",
            " [35.0 'Moderate' 'no' 'no' 89.0]\n",
            " [32.0 'Moderate' 'no' 'yes' 84.0]\n",
            " [45.130434782608695 'Moderate' 'yes' 'no' 90.0]\n",
            " [32.0 'Moderate' 'no' 'no' 89.0]\n",
            " [35.0 'Moderate' 'no' 'yes' 92.0]\n",
            " [38.0 'High' 'no' 'no' 75.0]\n",
            " [40.0 'Moderate' 'no' 'yes' 90.0]\n",
            " [46.0 'High' 'yes' 'no' 91.0]\n",
            " [48.0 'Moderate' 'no' 'yes' 93.0]\n",
            " [42.0 'High' 'no' 'no' 92.0]\n",
            " [40.0 'High' 'no' 'no' 92.0]\n",
            " [49.0 'Moderate' 'no' 'no' 80.0]\n",
            " [50.0 'High' 'yes' 'yes' 77.0]\n",
            " [36.0 'High' 'yes' 'no' 90.0]\n",
            " [52.0 'High' 'yes' 'yes' 80.0]\n",
            " [56.0 'High' 'yes' 'yes' 77.0]\n",
            " [58.0 'High' 'no' 'no' 70.0]\n",
            " [59.0 'High' 'no' 'yes' 69.0]\n",
            " [60.0 'High' 'yes' 'yes' 68.0]\n",
            " [53.0 'High' 'yes' 'no' 55.0]\n",
            " [54.0 'High' 'yes' 'yes' 70.0]\n",
            " [62.0 'High' 'yes' 'yes' 68.0]\n",
            " [63.0 'High' 'yes' 'yes' 66.0]\n",
            " [68.0 'High' 'yes' 'no' 67.0]\n",
            " [69.0 'High' 'no' 'yes' 53.0]\n",
            " [64.0 'High' 'yes' 'yes' 73.0]\n",
            " [61.0 'High' 'yes' 'yes' 76.0]\n",
            " [70.0 'Normal' 'no' 'yes' 88.0]\n",
            " [59.0 'High' 'yes' 'no' 68.0]\n",
            " [62.0 'High' 'yes' 'yes' 69.0]\n",
            " [78.0 'High' 'yes' 'yes' 71.0]\n",
            " [74.0 'High' 'yes' 'yes' 75.0]\n",
            " [75.0 'High' 'no' 'yes' 72.0]\n",
            " [56.0 'High' 'yes' 'no' 76.0]\n",
            " [80.0 'High' 'no' 'yes' 92.0]\n",
            " [82.0 'High' 'yes' 'yes' 73.0]\n",
            " [86.0 'High' 'yes' 'yes' 71.0]\n",
            " [90.0 'High' 'yes' 'yes' 67.0]\n",
            " [84.0 'High' 'yes' 'yes' 75.0]\n",
            " [86.0 'High' 'no' 'yes' 76.0]\n",
            " [61.0 'Moderate' 'no' 'yes' 90.0]\n",
            " [94.0 'High' 'yes' 'yes' 64.0]\n",
            " [81.0 'High' 'yes' 'yes' 75.0]\n",
            " [76.0 'High' 'yes' 'yes' 80.0]]\n"
          ]
        }
      ]
    },
    {
      "cell_type": "code",
      "source": [
        "from sklearn.compose import ColumnTransformer\n",
        "from sklearn.preprocessing import OneHotEncoder"
      ],
      "metadata": {
        "id": "tCGy7jwF9ThB"
      },
      "execution_count": 12,
      "outputs": []
    },
    {
      "cell_type": "code",
      "source": [
        "ct = ColumnTransformer(transformers = [('encoder', OneHotEncoder(), [1])], remainder = 'passthrough')\n",
        "X = np.array(ct.fit_transform(X))"
      ],
      "metadata": {
        "id": "L4DcFTzp9tg1"
      },
      "execution_count": 13,
      "outputs": []
    },
    {
      "cell_type": "code",
      "source": [
        "print(X)"
      ],
      "metadata": {
        "colab": {
          "base_uri": "https://localhost:8080/"
        },
        "id": "FY1MfZ0j-kUz",
        "outputId": "41961d9c-7230-4241-959f-b87be9223bd8"
      },
      "execution_count": 14,
      "outputs": [
        {
          "output_type": "stream",
          "name": "stdout",
          "text": [
            "[[0.0 0.0 1.0 10.0 'no' 'no' 97.0]\n",
            " [0.0 0.0 1.0 12.0 'no' 'no' 97.0]\n",
            " [0.0 0.0 1.0 15.0 'no' 'no' 94.0]\n",
            " [0.0 0.0 1.0 10.0 'no' 'no' 97.0]\n",
            " [0.0 1.0 0.0 13.0 'no' 'no' 94.0]\n",
            " [0.0 1.0 0.0 12.0 'no' 'no' 97.0]\n",
            " [0.0 1.0 0.0 13.0 'no' 'no' 93.0]\n",
            " [0.0 1.0 0.0 15.0 'no' 'no' 92.0]\n",
            " [0.0 1.0 0.0 18.0 'no' 'no' 66.0]\n",
            " [0.0 0.0 1.0 19.0 'no' 'no' 92.0]\n",
            " [0.0 0.0 1.0 20.0 'no' 'no' 93.0]\n",
            " [0.0 0.0 1.0 17.0 'no' 'no' 93.0]\n",
            " [0.0 0.0 1.0 16.0 'no' 'no' 92.0]\n",
            " [0.0 0.0 1.0 18.0 'no' 'no' 93.0]\n",
            " [0.0 0.0 1.0 20.0 'no' 'no' 92.0]\n",
            " [0.0 1.0 0.0 25.0 'no' 'no' 93.0]\n",
            " [0.0 1.0 0.0 24.0 'no' 'no' 92.0]\n",
            " [1.0 0.0 0.0 26.0 'no' 'no' 94.0]\n",
            " [0.0 0.0 1.0 28.0 'no' 'no' 99.0]\n",
            " [0.0 0.0 1.0 29.0 'no' 'no' 93.0]\n",
            " [0.0 1.0 0.0 30.0 'no' 'no' 62.0]\n",
            " [0.0 0.0 1.0 19.0 'no' 'no' 89.0]\n",
            " [0.0 0.0 1.0 25.0 'no' 'yes' 86.0]\n",
            " [0.0 0.0 1.0 26.0 'no' 'no' 82.07246376811594]\n",
            " [0.0 0.0 1.0 28.0 'no' 'no' 89.0]\n",
            " [0.0 1.0 0.0 30.0 'yes' 'no' 86.0]\n",
            " [0.0 1.0 0.0 35.0 'no' 'no' 89.0]\n",
            " [0.0 1.0 0.0 32.0 'no' 'yes' 84.0]\n",
            " [0.0 1.0 0.0 45.130434782608695 'yes' 'no' 90.0]\n",
            " [0.0 1.0 0.0 32.0 'no' 'no' 89.0]\n",
            " [0.0 1.0 0.0 35.0 'no' 'yes' 92.0]\n",
            " [1.0 0.0 0.0 38.0 'no' 'no' 75.0]\n",
            " [0.0 1.0 0.0 40.0 'no' 'yes' 90.0]\n",
            " [1.0 0.0 0.0 46.0 'yes' 'no' 91.0]\n",
            " [0.0 1.0 0.0 48.0 'no' 'yes' 93.0]\n",
            " [1.0 0.0 0.0 42.0 'no' 'no' 92.0]\n",
            " [1.0 0.0 0.0 40.0 'no' 'no' 92.0]\n",
            " [0.0 1.0 0.0 49.0 'no' 'no' 80.0]\n",
            " [1.0 0.0 0.0 50.0 'yes' 'yes' 77.0]\n",
            " [1.0 0.0 0.0 36.0 'yes' 'no' 90.0]\n",
            " [1.0 0.0 0.0 52.0 'yes' 'yes' 80.0]\n",
            " [1.0 0.0 0.0 56.0 'yes' 'yes' 77.0]\n",
            " [1.0 0.0 0.0 58.0 'no' 'no' 70.0]\n",
            " [1.0 0.0 0.0 59.0 'no' 'yes' 69.0]\n",
            " [1.0 0.0 0.0 60.0 'yes' 'yes' 68.0]\n",
            " [1.0 0.0 0.0 53.0 'yes' 'no' 55.0]\n",
            " [1.0 0.0 0.0 54.0 'yes' 'yes' 70.0]\n",
            " [1.0 0.0 0.0 62.0 'yes' 'yes' 68.0]\n",
            " [1.0 0.0 0.0 63.0 'yes' 'yes' 66.0]\n",
            " [1.0 0.0 0.0 68.0 'yes' 'no' 67.0]\n",
            " [1.0 0.0 0.0 69.0 'no' 'yes' 53.0]\n",
            " [1.0 0.0 0.0 64.0 'yes' 'yes' 73.0]\n",
            " [1.0 0.0 0.0 61.0 'yes' 'yes' 76.0]\n",
            " [0.0 0.0 1.0 70.0 'no' 'yes' 88.0]\n",
            " [1.0 0.0 0.0 59.0 'yes' 'no' 68.0]\n",
            " [1.0 0.0 0.0 62.0 'yes' 'yes' 69.0]\n",
            " [1.0 0.0 0.0 78.0 'yes' 'yes' 71.0]\n",
            " [1.0 0.0 0.0 74.0 'yes' 'yes' 75.0]\n",
            " [1.0 0.0 0.0 75.0 'no' 'yes' 72.0]\n",
            " [1.0 0.0 0.0 56.0 'yes' 'no' 76.0]\n",
            " [1.0 0.0 0.0 80.0 'no' 'yes' 92.0]\n",
            " [1.0 0.0 0.0 82.0 'yes' 'yes' 73.0]\n",
            " [1.0 0.0 0.0 86.0 'yes' 'yes' 71.0]\n",
            " [1.0 0.0 0.0 90.0 'yes' 'yes' 67.0]\n",
            " [1.0 0.0 0.0 84.0 'yes' 'yes' 75.0]\n",
            " [1.0 0.0 0.0 86.0 'no' 'yes' 76.0]\n",
            " [0.0 1.0 0.0 61.0 'no' 'yes' 90.0]\n",
            " [1.0 0.0 0.0 94.0 'yes' 'yes' 64.0]\n",
            " [1.0 0.0 0.0 81.0 'yes' 'yes' 75.0]\n",
            " [1.0 0.0 0.0 76.0 'yes' 'yes' 80.0]]\n"
          ]
        }
      ]
    },
    {
      "cell_type": "code",
      "source": [
        "from sklearn.preprocessing import LabelEncoder\n",
        "le = LabelEncoder()\n",
        "y = le.fit_transform(y)\n"
      ],
      "metadata": {
        "id": "_sGYb84z-oFe"
      },
      "execution_count": 15,
      "outputs": []
    },
    {
      "cell_type": "code",
      "source": [
        "print(y)"
      ],
      "metadata": {
        "colab": {
          "base_uri": "https://localhost:8080/"
        },
        "id": "d9ciXni4AKuX",
        "outputId": "4da619ec-6eb6-4079-d639-30cb88c9cee6"
      },
      "execution_count": 16,
      "outputs": [
        {
          "output_type": "stream",
          "name": "stdout",
          "text": [
            "[0 0 0 0 0 0 0 0 1 0 0 0 0 0 0 0 0 0 0 0 1 0 0 0 0 0 0 0 0 0 0 1 0 0 0 0 0\n",
            " 1 1 0 1 1 1 1 1 1 1 1 1 1 1 1 1 0 1 1 1 1 1 1 0 1 1 1 1 1 0 1 1 1]\n"
          ]
        }
      ]
    },
    {
      "cell_type": "code",
      "source": [
        "from sklearn.model_selection import train_test_split\n",
        "X_train, X_test, y_train, y_test = train_test_split(X, y, test_size = 0.5, random_state = 40)"
      ],
      "metadata": {
        "id": "5px4CEd6EenL"
      },
      "execution_count": 17,
      "outputs": []
    },
    {
      "cell_type": "code",
      "source": [
        "print(X_train)"
      ],
      "metadata": {
        "colab": {
          "base_uri": "https://localhost:8080/"
        },
        "id": "c0njuq98Ez4p",
        "outputId": "456da41d-a471-4df5-be44-e4a53baa5a2c"
      },
      "execution_count": 18,
      "outputs": [
        {
          "output_type": "stream",
          "name": "stdout",
          "text": [
            "[[0.0 0.0 1.0 70.0 'no' 'yes' 88.0]\n",
            " [0.0 0.0 1.0 28.0 'no' 'no' 99.0]\n",
            " [0.0 0.0 1.0 18.0 'no' 'no' 93.0]\n",
            " [1.0 0.0 0.0 62.0 'yes' 'yes' 68.0]\n",
            " [1.0 0.0 0.0 74.0 'yes' 'yes' 75.0]\n",
            " [1.0 0.0 0.0 90.0 'yes' 'yes' 67.0]\n",
            " [1.0 0.0 0.0 42.0 'no' 'no' 92.0]\n",
            " [1.0 0.0 0.0 94.0 'yes' 'yes' 64.0]\n",
            " [0.0 0.0 1.0 10.0 'no' 'no' 97.0]\n",
            " [0.0 0.0 1.0 25.0 'no' 'yes' 86.0]\n",
            " [1.0 0.0 0.0 56.0 'yes' 'no' 76.0]\n",
            " [1.0 0.0 0.0 52.0 'yes' 'yes' 80.0]\n",
            " [0.0 1.0 0.0 45.130434782608695 'yes' 'no' 90.0]\n",
            " [0.0 0.0 1.0 20.0 'no' 'no' 92.0]\n",
            " [0.0 1.0 0.0 25.0 'no' 'no' 93.0]\n",
            " [0.0 1.0 0.0 35.0 'no' 'yes' 92.0]\n",
            " [0.0 1.0 0.0 18.0 'no' 'no' 66.0]\n",
            " [1.0 0.0 0.0 75.0 'no' 'yes' 72.0]\n",
            " [1.0 0.0 0.0 68.0 'yes' 'no' 67.0]\n",
            " [0.0 1.0 0.0 40.0 'no' 'yes' 90.0]\n",
            " [0.0 0.0 1.0 19.0 'no' 'no' 92.0]\n",
            " [0.0 1.0 0.0 32.0 'no' 'yes' 84.0]\n",
            " [1.0 0.0 0.0 82.0 'yes' 'yes' 73.0]\n",
            " [1.0 0.0 0.0 62.0 'yes' 'yes' 69.0]\n",
            " [0.0 0.0 1.0 20.0 'no' 'no' 93.0]\n",
            " [1.0 0.0 0.0 38.0 'no' 'no' 75.0]\n",
            " [0.0 0.0 1.0 29.0 'no' 'no' 93.0]\n",
            " [0.0 1.0 0.0 61.0 'no' 'yes' 90.0]\n",
            " [1.0 0.0 0.0 76.0 'yes' 'yes' 80.0]\n",
            " [0.0 0.0 1.0 16.0 'no' 'no' 92.0]\n",
            " [1.0 0.0 0.0 86.0 'no' 'yes' 76.0]\n",
            " [1.0 0.0 0.0 69.0 'no' 'yes' 53.0]\n",
            " [1.0 0.0 0.0 78.0 'yes' 'yes' 71.0]\n",
            " [0.0 1.0 0.0 49.0 'no' 'no' 80.0]\n",
            " [0.0 1.0 0.0 15.0 'no' 'no' 92.0]]\n"
          ]
        }
      ]
    },
    {
      "cell_type": "code",
      "source": [
        "print(X_test)"
      ],
      "metadata": {
        "colab": {
          "base_uri": "https://localhost:8080/"
        },
        "id": "z1jsd6aPE5i0",
        "outputId": "acdfcbf7-03e6-4327-fccd-a8ca4a1a96fc"
      },
      "execution_count": 19,
      "outputs": [
        {
          "output_type": "stream",
          "name": "stdout",
          "text": [
            "[[1.0 0.0 0.0 60.0 'yes' 'yes' 68.0]\n",
            " [0.0 0.0 1.0 10.0 'no' 'no' 97.0]\n",
            " [1.0 0.0 0.0 80.0 'no' 'yes' 92.0]\n",
            " [1.0 0.0 0.0 64.0 'yes' 'yes' 73.0]\n",
            " [0.0 1.0 0.0 35.0 'no' 'no' 89.0]\n",
            " [0.0 0.0 1.0 19.0 'no' 'no' 89.0]\n",
            " [0.0 1.0 0.0 13.0 'no' 'no' 94.0]\n",
            " [0.0 0.0 1.0 28.0 'no' 'no' 89.0]\n",
            " [1.0 0.0 0.0 59.0 'yes' 'no' 68.0]\n",
            " [1.0 0.0 0.0 81.0 'yes' 'yes' 75.0]\n",
            " [1.0 0.0 0.0 26.0 'no' 'no' 94.0]\n",
            " [0.0 1.0 0.0 13.0 'no' 'no' 93.0]\n",
            " [1.0 0.0 0.0 58.0 'no' 'no' 70.0]\n",
            " [1.0 0.0 0.0 50.0 'yes' 'yes' 77.0]\n",
            " [1.0 0.0 0.0 36.0 'yes' 'no' 90.0]\n",
            " [0.0 1.0 0.0 30.0 'no' 'no' 62.0]\n",
            " [1.0 0.0 0.0 63.0 'yes' 'yes' 66.0]\n",
            " [1.0 0.0 0.0 56.0 'yes' 'yes' 77.0]\n",
            " [1.0 0.0 0.0 46.0 'yes' 'no' 91.0]\n",
            " [0.0 1.0 0.0 32.0 'no' 'no' 89.0]\n",
            " [1.0 0.0 0.0 61.0 'yes' 'yes' 76.0]\n",
            " [1.0 0.0 0.0 54.0 'yes' 'yes' 70.0]\n",
            " [0.0 0.0 1.0 12.0 'no' 'no' 97.0]\n",
            " [0.0 1.0 0.0 24.0 'no' 'no' 92.0]\n",
            " [0.0 1.0 0.0 12.0 'no' 'no' 97.0]\n",
            " [1.0 0.0 0.0 84.0 'yes' 'yes' 75.0]\n",
            " [1.0 0.0 0.0 40.0 'no' 'no' 92.0]\n",
            " [0.0 0.0 1.0 15.0 'no' 'no' 94.0]\n",
            " [1.0 0.0 0.0 53.0 'yes' 'no' 55.0]\n",
            " [0.0 1.0 0.0 48.0 'no' 'yes' 93.0]\n",
            " [0.0 0.0 1.0 17.0 'no' 'no' 93.0]\n",
            " [0.0 1.0 0.0 30.0 'yes' 'no' 86.0]\n",
            " [0.0 0.0 1.0 26.0 'no' 'no' 82.07246376811594]\n",
            " [1.0 0.0 0.0 86.0 'yes' 'yes' 71.0]\n",
            " [1.0 0.0 0.0 59.0 'no' 'yes' 69.0]]\n"
          ]
        }
      ]
    },
    {
      "cell_type": "code",
      "source": [
        "print(y_train)"
      ],
      "metadata": {
        "colab": {
          "base_uri": "https://localhost:8080/"
        },
        "id": "wtMLtRORE_qM",
        "outputId": "259b495d-9115-484c-9ea7-3eae109d65ad"
      },
      "execution_count": 20,
      "outputs": [
        {
          "output_type": "stream",
          "name": "stdout",
          "text": [
            "[0 0 0 1 1 1 0 1 0 0 1 1 0 0 0 0 1 1 1 0 0 0 1 1 0 1 0 0 1 0 1 1 1 1 0]\n"
          ]
        }
      ]
    },
    {
      "cell_type": "code",
      "source": [
        "print(y_test)"
      ],
      "metadata": {
        "colab": {
          "base_uri": "https://localhost:8080/"
        },
        "id": "GGd0OV9dFDHh",
        "outputId": "a1b81f48-cc1b-4764-c4dd-389d5f2e24b0"
      },
      "execution_count": 21,
      "outputs": [
        {
          "output_type": "stream",
          "name": "stdout",
          "text": [
            "[1 0 0 1 0 0 0 0 1 1 0 0 1 1 0 1 1 1 0 0 1 1 0 0 0 1 0 0 1 0 0 0 0 1 1]\n"
          ]
        }
      ]
    },
    {
      "cell_type": "code",
      "source": [
        "from sklearn.preprocessing import StandardScaler\n",
        "sc = StandardScaler()\n",
        "X_train[:, 6:] = sc.fit_transform(X_train[:, 6:])\n",
        "X_test[:, 6:] = sc.fit_transform(X_test[:, 6:])"
      ],
      "metadata": {
        "id": "my0u7MgAHWh1"
      },
      "execution_count": 22,
      "outputs": []
    },
    {
      "cell_type": "code",
      "source": [
        "print(X_train)"
      ],
      "metadata": {
        "colab": {
          "base_uri": "https://localhost:8080/"
        },
        "id": "XpDQUwb4LMFs",
        "outputId": "8a253d83-8799-4a30-c7ce-89d15d9d6deb"
      },
      "execution_count": 23,
      "outputs": [
        {
          "output_type": "stream",
          "name": "stdout",
          "text": [
            "[[0.0 0.0 1.0 70.0 'no' 'yes' 0.550499116088506]\n",
            " [0.0 0.0 1.0 28.0 'no' 'no' 1.5138725692433905]\n",
            " [0.0 0.0 1.0 18.0 'no' 'no' 0.9883961402498171]\n",
            " [1.0 0.0 0.0 62.0 'yes' 'yes' -1.2010889805567386]\n",
            " [1.0 0.0 0.0 74.0 'yes' 'yes' -0.588033146730903]\n",
            " [1.0 0.0 0.0 90.0 'yes' 'yes' -1.2886683853890009]\n",
            " [1.0 0.0 0.0 42.0 'no' 'no' 0.9008167354175549]\n",
            " [1.0 0.0 0.0 94.0 'yes' 'yes' -1.5514065998857876]\n",
            " [0.0 0.0 1.0 10.0 'no' 'no' 1.338713759578866]\n",
            " [0.0 0.0 1.0 25.0 'no' 'yes' 0.37534030642398153]\n",
            " [1.0 0.0 0.0 56.0 'yes' 'no' -0.5004537418986408]\n",
            " [1.0 0.0 0.0 52.0 'yes' 'yes' -0.15013612256959186]\n",
            " [0.0 1.0 0.0 45.130434782608695 'yes' 'no' 0.7256579257530305]\n",
            " [0.0 0.0 1.0 20.0 'no' 'no' 0.9008167354175549]\n",
            " [0.0 1.0 0.0 25.0 'no' 'no' 0.9883961402498171]\n",
            " [0.0 1.0 0.0 35.0 'no' 'yes' 0.9008167354175549]\n",
            " [0.0 1.0 0.0 18.0 'no' 'no' -1.376247790221263]\n",
            " [1.0 0.0 0.0 75.0 'no' 'yes' -0.8507713612276897]\n",
            " [1.0 0.0 0.0 68.0 'yes' 'no' -1.2886683853890009]\n",
            " [0.0 1.0 0.0 40.0 'no' 'yes' 0.7256579257530305]\n",
            " [0.0 0.0 1.0 19.0 'no' 'no' 0.9008167354175549]\n",
            " [0.0 1.0 0.0 32.0 'no' 'yes' 0.20018149675945707]\n",
            " [1.0 0.0 0.0 82.0 'yes' 'yes' -0.7631919563954275]\n",
            " [1.0 0.0 0.0 62.0 'yes' 'yes' -1.1135095757244764]\n",
            " [0.0 0.0 1.0 20.0 'no' 'no' 0.9883961402498171]\n",
            " [1.0 0.0 0.0 38.0 'no' 'no' -0.588033146730903]\n",
            " [0.0 0.0 1.0 29.0 'no' 'no' 0.9883961402498171]\n",
            " [0.0 1.0 0.0 61.0 'no' 'yes' 0.7256579257530305]\n",
            " [1.0 0.0 0.0 76.0 'yes' 'yes' -0.15013612256959186]\n",
            " [0.0 0.0 1.0 16.0 'no' 'no' 0.9008167354175549]\n",
            " [1.0 0.0 0.0 86.0 'no' 'yes' -0.5004537418986408]\n",
            " [1.0 0.0 0.0 69.0 'no' 'yes' -2.5147800530406723]\n",
            " [1.0 0.0 0.0 78.0 'yes' 'yes' -0.9383507660599519]\n",
            " [0.0 1.0 0.0 49.0 'no' 'no' -0.15013612256959186]\n",
            " [0.0 1.0 0.0 15.0 'no' 'no' 0.9008167354175549]]\n"
          ]
        }
      ]
    },
    {
      "cell_type": "code",
      "source": [
        "print(X_test)"
      ],
      "metadata": {
        "colab": {
          "base_uri": "https://localhost:8080/"
        },
        "id": "71oaDI9VLP8x",
        "outputId": "50753ca4-cc8f-4440-a2df-516ffdc800fd"
      },
      "execution_count": 24,
      "outputs": [
        {
          "output_type": "stream",
          "name": "stdout",
          "text": [
            "[[1.0 0.0 0.0 60.0 'yes' 'yes' -1.2399578820753718]\n",
            " [0.0 0.0 1.0 10.0 'no' 'no' 1.2518771328786793]\n",
            " [1.0 0.0 0.0 80.0 'no' 'yes' 0.8222504061624636]\n",
            " [1.0 0.0 0.0 64.0 'yes' 'yes' -0.8103311553591561]\n",
            " [0.0 1.0 0.0 35.0 'no' 'no' 0.5644743701327342]\n",
            " [0.0 0.0 1.0 19.0 'no' 'no' 0.5644743701327342]\n",
            " [0.0 1.0 0.0 13.0 'no' 'no' 0.9941010968489499]\n",
            " [0.0 0.0 1.0 28.0 'no' 'no' 0.5644743701327342]\n",
            " [1.0 0.0 0.0 59.0 'yes' 'no' -1.2399578820753718]\n",
            " [1.0 0.0 0.0 81.0 'yes' 'yes' -0.6384804646726698]\n",
            " [1.0 0.0 0.0 26.0 'no' 'no' 0.9941010968489499]\n",
            " [0.0 1.0 0.0 13.0 'no' 'no' 0.9081757515057067]\n",
            " [1.0 0.0 0.0 58.0 'no' 'no' -1.0681071913888855]\n",
            " [1.0 0.0 0.0 50.0 'yes' 'yes' -0.4666297739861836]\n",
            " [1.0 0.0 0.0 36.0 'yes' 'no' 0.6503997154759773]\n",
            " [0.0 1.0 0.0 30.0 'no' 'no' -1.7555099541348307]\n",
            " [1.0 0.0 0.0 63.0 'yes' 'yes' -1.4118085727618581]\n",
            " [1.0 0.0 0.0 56.0 'yes' 'yes' -0.4666297739861836]\n",
            " [1.0 0.0 0.0 46.0 'yes' 'no' 0.7363250608192204]\n",
            " [0.0 1.0 0.0 32.0 'no' 'no' 0.5644743701327342]\n",
            " [1.0 0.0 0.0 61.0 'yes' 'yes' -0.5525551193294267]\n",
            " [1.0 0.0 0.0 54.0 'yes' 'yes' -1.0681071913888855]\n",
            " [0.0 0.0 1.0 12.0 'no' 'no' 1.2518771328786793]\n",
            " [0.0 1.0 0.0 24.0 'no' 'no' 0.8222504061624636]\n",
            " [0.0 1.0 0.0 12.0 'no' 'no' 1.2518771328786793]\n",
            " [1.0 0.0 0.0 84.0 'yes' 'yes' -0.6384804646726698]\n",
            " [1.0 0.0 0.0 40.0 'no' 'no' 0.8222504061624636]\n",
            " [0.0 0.0 1.0 15.0 'no' 'no' 0.9941010968489499]\n",
            " [1.0 0.0 0.0 53.0 'yes' 'no' -2.356987371537533]\n",
            " [0.0 1.0 0.0 48.0 'no' 'yes' 0.9081757515057067]\n",
            " [0.0 0.0 1.0 17.0 'no' 'no' 0.9081757515057067]\n",
            " [0.0 1.0 0.0 30.0 'yes' 'no' 0.3066983341030047]\n",
            " [0.0 0.0 1.0 26.0 'no' 'no' -0.03077657296973322]\n",
            " [1.0 0.0 0.0 86.0 'yes' 'yes' -0.9821818460456424]\n",
            " [1.0 0.0 0.0 59.0 'no' 'yes' -1.1540325367321287]]\n"
          ]
        }
      ]
    },
    {
      "cell_type": "markdown",
      "source": [
        "# New Section"
      ],
      "metadata": {
        "id": "cHssu1TELyzQ"
      }
    }
  ]
}